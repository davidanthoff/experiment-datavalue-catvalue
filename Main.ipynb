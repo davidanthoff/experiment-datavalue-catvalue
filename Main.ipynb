{
 "cells": [
  {
   "cell_type": "code",
   "execution_count": 1,
   "metadata": {},
   "outputs": [],
   "source": [
    "using DataFrames, IteratorInterfaceExtensions, DataValues"
   ]
  },
  {
   "cell_type": "code",
   "execution_count": 2,
   "metadata": {},
   "outputs": [
    {
     "data": {
      "text/html": [
       "<table class=\"data-frame\"><thead><tr><th></th><th>fruit</th><th>price</th></tr><tr><th></th><th>String⍰</th><th>Float64</th></tr></thead><tbody><p>6 rows × 2 columns</p><tr><th>1</th><td>Apple</td><td>1.2</td></tr><tr><th>2</th><td>missing</td><td>2.0</td></tr><tr><th>3</th><td>Cherry</td><td>0.4</td></tr><tr><th>4</th><td>Apple</td><td>1.2</td></tr><tr><th>5</th><td>Banana</td><td>2.0</td></tr><tr><th>6</th><td>Cherry</td><td>0.4</td></tr></tbody></table>"
      ],
      "text/latex": [
       "\\begin{tabular}{r|cc}\n",
       "\t& fruit & price\\\\\n",
       "\t\\hline\n",
       "\t& String⍰ & Float64\\\\\n",
       "\t\\hline\n",
       "\t1 & Apple & 1.2 \\\\\n",
       "\t2 &  & 2.0 \\\\\n",
       "\t3 & Cherry & 0.4 \\\\\n",
       "\t4 & Apple & 1.2 \\\\\n",
       "\t5 & Banana & 2.0 \\\\\n",
       "\t6 & Cherry & 0.4 \\\\\n",
       "\\end{tabular}\n"
      ],
      "text/plain": [
       "6×2 DataFrame\n",
       "│ Row │ fruit   │ price   │\n",
       "│     │ \u001b[90mString⍰\u001b[39m │ \u001b[90mFloat64\u001b[39m │\n",
       "├─────┼─────────┼─────────┤\n",
       "│ 1   │ Apple   │ 1.2     │\n",
       "│ 2   │ \u001b[90mmissing\u001b[39m │ 2.0     │\n",
       "│ 3   │ Cherry  │ 0.4     │\n",
       "│ 4   │ Apple   │ 1.2     │\n",
       "│ 5   │ Banana  │ 2.0     │\n",
       "│ 6   │ Cherry  │ 0.4     │"
      ]
     },
     "execution_count": 2,
     "metadata": {},
     "output_type": "execute_result"
    }
   ],
   "source": [
    "df = DataFrame(fruit= [\"Apple\", missing, \"Cherry\", \"Apple\", \"Banana\", \"Cherry\"], price= [1.2, 2.0, 0.4, 1.2, 2.0, 0.4])"
   ]
  },
  {
   "cell_type": "code",
   "execution_count": 3,
   "metadata": {},
   "outputs": [
    {
     "data": {
      "text/html": [
       "<table class=\"data-frame\"><thead><tr><th></th><th>fruit</th><th>price</th></tr><tr><th></th><th>Categorical…⍰</th><th>Float64</th></tr></thead><tbody><p>6 rows × 2 columns</p><tr><th>1</th><td>Apple</td><td>1.2</td></tr><tr><th>2</th><td>missing</td><td>2.0</td></tr><tr><th>3</th><td>Cherry</td><td>0.4</td></tr><tr><th>4</th><td>Apple</td><td>1.2</td></tr><tr><th>5</th><td>Banana</td><td>2.0</td></tr><tr><th>6</th><td>Cherry</td><td>0.4</td></tr></tbody></table>"
      ],
      "text/latex": [
       "\\begin{tabular}{r|cc}\n",
       "\t& fruit & price\\\\\n",
       "\t\\hline\n",
       "\t& Categorical…⍰ & Float64\\\\\n",
       "\t\\hline\n",
       "\t1 & Apple & 1.2 \\\\\n",
       "\t2 &  & 2.0 \\\\\n",
       "\t3 & Cherry & 0.4 \\\\\n",
       "\t4 & Apple & 1.2 \\\\\n",
       "\t5 & Banana & 2.0 \\\\\n",
       "\t6 & Cherry & 0.4 \\\\\n",
       "\\end{tabular}\n"
      ],
      "text/plain": [
       "6×2 DataFrame\n",
       "│ Row │ fruit         │ price   │\n",
       "│     │ \u001b[90mCategorical…⍰\u001b[39m │ \u001b[90mFloat64\u001b[39m │\n",
       "├─────┼───────────────┼─────────┤\n",
       "│ 1   │ Apple         │ 1.2     │\n",
       "│ 2   │ \u001b[90mmissing\u001b[39m       │ 2.0     │\n",
       "│ 3   │ Cherry        │ 0.4     │\n",
       "│ 4   │ Apple         │ 1.2     │\n",
       "│ 5   │ Banana        │ 2.0     │\n",
       "│ 6   │ Cherry        │ 0.4     │"
      ]
     },
     "execution_count": 3,
     "metadata": {},
     "output_type": "execute_result"
    }
   ],
   "source": [
    "categorical!(df, :fruit)"
   ]
  },
  {
   "cell_type": "code",
   "execution_count": 4,
   "metadata": {},
   "outputs": [
    {
     "ename": "MethodError",
     "evalue": "MethodError: convert(::Type{DataValue{CategoricalString{UInt32}}}, ::CategoricalString{UInt32}) is ambiguous. Candidates:\n  convert(::Type{S}, x::T) where {S, T<:(Union{CategoricalString{R}, CategoricalValue{T,R} where T} where R)} in CategoricalArrays at C:\\Users\\david\\.julia\\packages\\CategoricalArrays\\xjesC\\src\\value.jl:91\n  convert(::Type{DataValue{T}}, x::T) where T in DataValues at C:\\Users\\david\\.julia\\packages\\DataValues\\XQWvG\\src\\scalar\\core.jl:31\nPossible fix, define\n  convert(::Type{DataValue{T}}, ::T<:(Union{CategoricalString{R}, CategoricalValue{T,R} where T} where R))",
     "output_type": "error",
     "traceback": [
      "MethodError: convert(::Type{DataValue{CategoricalString{UInt32}}}, ::CategoricalString{UInt32}) is ambiguous. Candidates:\n  convert(::Type{S}, x::T) where {S, T<:(Union{CategoricalString{R}, CategoricalValue{T,R} where T} where R)} in CategoricalArrays at C:\\Users\\david\\.julia\\packages\\CategoricalArrays\\xjesC\\src\\value.jl:91\n  convert(::Type{DataValue{T}}, x::T) where T in DataValues at C:\\Users\\david\\.julia\\packages\\DataValues\\XQWvG\\src\\scalar\\core.jl:31\nPossible fix, define\n  convert(::Type{DataValue{T}}, ::T<:(Union{CategoricalString{R}, CategoricalValue{T,R} where T} where R))",
      "",
      "Stacktrace:",
      " [1] macro expansion at C:\\Users\\david\\.julia\\packages\\Tables\\FXXeK\\src\\tofromdatavalues.jl:102 [inlined]",
      " [2] iterate(::Tables.DataValueRowIterator{NamedTuple{(:fruit, :price),Tuple{DataValue{CategoricalString{UInt32}},Float64}},Tables.RowIterator{NamedTuple{(:fruit, :price),Tuple{CategoricalArray{Union{Missing, String},1,UInt32,String,CategoricalString{UInt32},Missing},Array{Float64,1}}}}}, ::Tuple{}) at C:\\Users\\david\\.julia\\packages\\Tables\\FXXeK\\src\\tofromdatavalues.jl:96 (repeats 2 times)",
      " [3] first(::Tables.DataValueRowIterator{NamedTuple{(:fruit, :price),Tuple{DataValue{CategoricalString{UInt32}},Float64}},Tables.RowIterator{NamedTuple{(:fruit, :price),Tuple{CategoricalArray{Union{Missing, String},1,UInt32,String,CategoricalString{UInt32},Missing},Array{Float64,1}}}}}) at .\\abstractarray.jl:288",
      " [4] top-level scope at In[4]:2"
     ]
    }
   ],
   "source": [
    "it = getiterator(df);\n",
    "first(it)"
   ]
  }
 ],
 "metadata": {
  "kernelspec": {
   "display_name": "Julia 1.1.1",
   "language": "julia",
   "name": "julia-1.1"
  },
  "language_info": {
   "file_extension": ".jl",
   "mimetype": "application/julia",
   "name": "julia",
   "version": "1.1.1"
  }
 },
 "nbformat": 4,
 "nbformat_minor": 4
}
